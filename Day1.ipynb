{
  "nbformat": 4,
  "nbformat_minor": 0,
  "metadata": {
    "colab": {
      "provenance": [],
      "authorship_tag": "ABX9TyMEe+iZDUUl1M2n+9gl9ECS"
    },
    "kernelspec": {
      "name": "python3",
      "display_name": "Python 3"
    },
    "language_info": {
      "name": "python"
    }
  },
  "cells": [
    {
      "cell_type": "code",
      "execution_count": null,
      "metadata": {
        "id": "M5qZL9BoZqIy"
      },
      "outputs": [],
      "source": []
    },
    {
      "cell_type": "markdown",
      "source": [],
      "metadata": {
        "id": "NbJosvU_Zw4q"
      }
    },
    {
      "cell_type": "code",
      "source": [
        "def load_file():\n",
        "  file_name = 'day1.data'\n",
        "  elf_data = []\n",
        "  with open(file_name) as f:\n",
        "    lines = f.readlines()\n",
        "  \n",
        "  calories = []\n",
        "  for line in lines:\n",
        "    line = line.replace('\\n', '')\n",
        "    if line == '':\n",
        "      elf_data.append(calories)\n",
        "      calories = []\n",
        "    else:\n",
        "      calories.append(int(line))\n",
        "  \n",
        "  elf_data.append(calories)\n",
        "  return elf_data\n"
      ],
      "metadata": {
        "id": "IUXoTHkyZxGZ"
      },
      "execution_count": 1,
      "outputs": []
    },
    {
      "cell_type": "code",
      "source": [
        "data = load_file()"
      ],
      "metadata": {
        "id": "iAGwqrAzafIV"
      },
      "execution_count": 2,
      "outputs": []
    },
    {
      "cell_type": "code",
      "source": [
        "max(data)"
      ],
      "metadata": {
        "colab": {
          "base_uri": "https://localhost:8080/"
        },
        "id": "df9Xvg7QagoG",
        "outputId": "18d65568-5458-44dc-d774-3f53a9e42e9c"
      },
      "execution_count": 3,
      "outputs": [
        {
          "output_type": "execute_result",
          "data": {
            "text/plain": [
              "[69149]"
            ]
          },
          "metadata": {},
          "execution_count": 3
        }
      ]
    },
    {
      "cell_type": "code",
      "source": [
        "def find_max(data):\n",
        "  m = 0\n",
        "  for d in data:\n",
        "    s = sum(d)\n",
        "    m = max(s, m)\n",
        "  \n",
        "  return m"
      ],
      "metadata": {
        "id": "xXux4tJ9atAN"
      },
      "execution_count": 4,
      "outputs": []
    },
    {
      "cell_type": "code",
      "source": [
        "find_max(data)"
      ],
      "metadata": {
        "colab": {
          "base_uri": "https://localhost:8080/"
        },
        "id": "hkpF0BFcbHhN",
        "outputId": "0ecc23a5-7ad0-4b24-f931-6e5de7b940d5"
      },
      "execution_count": 5,
      "outputs": [
        {
          "output_type": "execute_result",
          "data": {
            "text/plain": [
              "72070"
            ]
          },
          "metadata": {},
          "execution_count": 5
        }
      ]
    },
    {
      "cell_type": "code",
      "source": [
        "def find_sums(data):\n",
        "  sums = []\n",
        "  for d in data:\n",
        "    sums.append(sum(d))\n",
        "  \n",
        "  return sums"
      ],
      "metadata": {
        "id": "4nOeqbCvbJj8"
      },
      "execution_count": 6,
      "outputs": []
    },
    {
      "cell_type": "code",
      "source": [
        "sums = find_sums(data)"
      ],
      "metadata": {
        "id": "m3G3LFhMbiEM"
      },
      "execution_count": 7,
      "outputs": []
    },
    {
      "cell_type": "code",
      "source": [
        "sums = sorted(sums, reverse=True)"
      ],
      "metadata": {
        "id": "fgWQ6AacbpO0"
      },
      "execution_count": 9,
      "outputs": []
    },
    {
      "cell_type": "code",
      "source": [
        "sums[0] + sums[1] + sums[2]"
      ],
      "metadata": {
        "colab": {
          "base_uri": "https://localhost:8080/"
        },
        "id": "2OrA1oZVcCZk",
        "outputId": "706727be-16e3-45a4-81c2-f8f00210010d"
      },
      "execution_count": 11,
      "outputs": [
        {
          "output_type": "execute_result",
          "data": {
            "text/plain": [
              "211805"
            ]
          },
          "metadata": {},
          "execution_count": 11
        }
      ]
    },
    {
      "cell_type": "code",
      "source": [],
      "metadata": {
        "id": "qSFaCK9dcEmd"
      },
      "execution_count": null,
      "outputs": []
    }
  ]
}