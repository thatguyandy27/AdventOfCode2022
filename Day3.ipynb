{
  "nbformat": 4,
  "nbformat_minor": 0,
  "metadata": {
    "colab": {
      "provenance": [],
      "authorship_tag": "ABX9TyMjLZAJXBts3XPoRmkt7VHt",
      "include_colab_link": true
    },
    "kernelspec": {
      "name": "python3",
      "display_name": "Python 3"
    },
    "language_info": {
      "name": "python"
    }
  },
  "cells": [
    {
      "cell_type": "markdown",
      "metadata": {
        "id": "view-in-github",
        "colab_type": "text"
      },
      "source": [
        "<a href=\"https://colab.research.google.com/github/thatguyandy27/AdventOfCode2022/blob/main/Day3.ipynb\" target=\"_parent\"><img src=\"https://colab.research.google.com/assets/colab-badge.svg\" alt=\"Open In Colab\"/></a>"
      ]
    },
    {
      "cell_type": "code",
      "execution_count": 1,
      "metadata": {
        "id": "GUNXL8sdQgh9"
      },
      "outputs": [],
      "source": [
        "def load_file():\n",
        "  file_name = 'input.dat'\n",
        "  with open(file_name) as f:\n",
        "    lines = f.readlines()\n",
        "  \n",
        "  sacks = []\n",
        "  for line in lines:\n",
        "    line = line.replace('\\n', '')\n",
        "    pivot = len(line) // 2\n",
        "    sacks.append((line[:pivot], line[pivot:]))\n",
        "    \n",
        "  \n",
        "  return sacks \n"
      ]
    },
    {
      "cell_type": "code",
      "source": [
        "sacks = load_file()"
      ],
      "metadata": {
        "id": "fJAigPEJRGIE"
      },
      "execution_count": 2,
      "outputs": []
    },
    {
      "cell_type": "code",
      "source": [
        "sacks[0]"
      ],
      "metadata": {
        "colab": {
          "base_uri": "https://localhost:8080/"
        },
        "id": "wb-0VAVmRISl",
        "outputId": "3ef8e83a-fced-40eb-9616-01fcf3f4acfc"
      },
      "execution_count": 3,
      "outputs": [
        {
          "output_type": "execute_result",
          "data": {
            "text/plain": [
              "('lflZfgnSnlmmlgGfjG', 'thQPtLNsQhvbHLLpSS')"
            ]
          },
          "metadata": {},
          "execution_count": 3
        }
      ]
    },
    {
      "cell_type": "code",
      "source": [
        "s = set(sacks[0][0])  "
      ],
      "metadata": {
        "id": "Mc0L9AkBRJhU"
      },
      "execution_count": 6,
      "outputs": []
    },
    {
      "cell_type": "code",
      "source": [
        "s"
      ],
      "metadata": {
        "colab": {
          "base_uri": "https://localhost:8080/"
        },
        "id": "0PoVAG1IRgkl",
        "outputId": "f8f0d9cf-d67b-4afe-c2e1-9123556f6397"
      },
      "execution_count": 7,
      "outputs": [
        {
          "output_type": "execute_result",
          "data": {
            "text/plain": [
              "{'G', 'S', 'Z', 'f', 'g', 'j', 'l', 'm', 'n'}"
            ]
          },
          "metadata": {},
          "execution_count": 7
        }
      ]
    },
    {
      "cell_type": "code",
      "source": [
        "s2 = set(sacks[0][1])\n",
        "s.intersection(s2)\n",
        "for c in s.intersection(s2):\n",
        "  print(c)\n",
        "  print(ord(c))"
      ],
      "metadata": {
        "colab": {
          "base_uri": "https://localhost:8080/"
        },
        "id": "Q1crVBOdSi8p",
        "outputId": "eba5a05a-e808-4d8a-f822-d71fcc765c02"
      },
      "execution_count": 13,
      "outputs": [
        {
          "output_type": "stream",
          "name": "stdout",
          "text": [
            "S\n",
            "83\n"
          ]
        }
      ]
    },
    {
      "cell_type": "code",
      "source": [
        "print(ord('a') - 64)\n",
        "print(ord('A') - 64)"
      ],
      "metadata": {
        "colab": {
          "base_uri": "https://localhost:8080/"
        },
        "id": "MHLXQzWATbGO",
        "outputId": "1d27aa01-2389-4594-8698-f403046933b5"
      },
      "execution_count": 15,
      "outputs": [
        {
          "output_type": "stream",
          "name": "stdout",
          "text": [
            "33\n",
            "1\n"
          ]
        }
      ]
    },
    {
      "cell_type": "code",
      "source": [
        "def getMatchingCount(sacks):\n",
        "  total = 0\n",
        "  for sack in sacks:\n",
        "    s1 = set(sack[0])\n",
        "    s2 = set(sack[1])\n",
        "    i = s1.intersection(s2)\n",
        "    for c in i:\n",
        "      amt = ord(c) - 64\n",
        "      if amt < 27:\n",
        "        amt = amt + 26\n",
        "      else:\n",
        "        amt = amt - 32\n",
        "\n",
        "      total += amt\n",
        "  \n",
        "  return total"
      ],
      "metadata": {
        "id": "u4RjFh8MRg9E"
      },
      "execution_count": 16,
      "outputs": []
    },
    {
      "cell_type": "code",
      "source": [
        "total = getMatchingCount(sacks)\n",
        "print(total)"
      ],
      "metadata": {
        "colab": {
          "base_uri": "https://localhost:8080/"
        },
        "id": "lCeqTdCOUzZs",
        "outputId": "fe35e9e6-0e70-4ef7-ce21-22fe6462077b"
      },
      "execution_count": 17,
      "outputs": [
        {
          "output_type": "stream",
          "name": "stdout",
          "text": [
            "8401\n"
          ]
        }
      ]
    },
    {
      "cell_type": "code",
      "source": [
        "def load_file2():\n",
        "  file_name = 'input.dat'\n",
        "  with open(file_name) as f:\n",
        "    lines = f.readlines()\n",
        "  \n",
        "  sacks = []\n",
        "  for line in lines:\n",
        "    line = line.replace('\\n', '')\n",
        "    sacks.append(line)\n",
        "  \n",
        "  return sacks \n"
      ],
      "metadata": {
        "id": "UUGP5xWvU3ej"
      },
      "execution_count": 18,
      "outputs": []
    },
    {
      "cell_type": "code",
      "source": [
        "sacks2 = load_file2()"
      ],
      "metadata": {
        "id": "KljiPJ-gVhfQ"
      },
      "execution_count": 19,
      "outputs": []
    },
    {
      "cell_type": "code",
      "source": [
        "def get_score2(sacks):\n",
        "  i = 0\n",
        "  total = 0\n",
        "  while i < len(sacks):\n",
        "    s1, s2, s3 = set(sacks[i]), set(sacks[i + 1]), set(sacks[i + 2])\n",
        "    i += 3\n",
        "\n",
        "    badge = s1.intersection(s2)\n",
        "    badge = badge.intersection(s3)\n",
        "\n",
        "    if len(badge) > 1:\n",
        "      print(\"ALERT\", badge)\n",
        "    for c in badge:\n",
        "      amt = ord(c) - 64\n",
        "      if amt < 27:\n",
        "        amt = amt + 26\n",
        "      else:\n",
        "        amt = amt - 32\n",
        "\n",
        "      total += amt\n",
        "  \n",
        "  return total"
      ],
      "metadata": {
        "id": "xdlY9Mc5VkBy"
      },
      "execution_count": 20,
      "outputs": []
    },
    {
      "cell_type": "code",
      "source": [
        "total2 = get_score2(sacks2)"
      ],
      "metadata": {
        "id": "WKZRiEYOWOSq"
      },
      "execution_count": 21,
      "outputs": []
    },
    {
      "cell_type": "code",
      "source": [
        "print(total2)"
      ],
      "metadata": {
        "colab": {
          "base_uri": "https://localhost:8080/"
        },
        "id": "95S4jWxzWRLq",
        "outputId": "24ef4207-105e-4c8a-e44d-a84ae822f382"
      },
      "execution_count": 22,
      "outputs": [
        {
          "output_type": "stream",
          "name": "stdout",
          "text": [
            "2641\n"
          ]
        }
      ]
    },
    {
      "cell_type": "code",
      "source": [],
      "metadata": {
        "id": "JK_w-3JYWSjh"
      },
      "execution_count": null,
      "outputs": []
    }
  ]
}