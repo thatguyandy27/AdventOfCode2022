{
  "nbformat": 4,
  "nbformat_minor": 0,
  "metadata": {
    "colab": {
      "provenance": [],
      "authorship_tag": "ABX9TyOuTSORg8y9brSETaEa1rRi",
      "include_colab_link": true
    },
    "kernelspec": {
      "name": "python3",
      "display_name": "Python 3"
    },
    "language_info": {
      "name": "python"
    }
  },
  "cells": [
    {
      "cell_type": "markdown",
      "metadata": {
        "id": "view-in-github",
        "colab_type": "text"
      },
      "source": [
        "<a href=\"https://colab.research.google.com/github/thatguyandy27/AdventOfCode2022/blob/main/Day12.ipynb\" target=\"_parent\"><img src=\"https://colab.research.google.com/assets/colab-badge.svg\" alt=\"Open In Colab\"/></a>"
      ]
    },
    {
      "cell_type": "code",
      "execution_count": 14,
      "metadata": {
        "id": "sa3iJ91vgK5S"
      },
      "outputs": [],
      "source": [
        "def load_file(file_name='input.dat'):\n",
        "  with open(file_name) as f:\n",
        "    lines = f.readlines()\n",
        "  \n",
        "  start = (0, 0)\n",
        "  end = (0, 0)\n",
        "  grid = []\n",
        "  i = 0\n",
        "  \n",
        "  for line in lines:\n",
        "    line = line.replace('\\n', '')\n",
        "    row = []\n",
        "    j = 0\n",
        "    for c in line:\n",
        "      if c == 'S':\n",
        "        start = (i, j)\n",
        "        print(start)\n",
        "        c = 'a'\n",
        "      elif c == 'E':\n",
        "        end = (i, j)\n",
        "        c = 'z'\n",
        "      row.append(ord(c) - 97)      \n",
        "      j += 1\n",
        "    \n",
        "    grid.append(row)\n",
        "    i += 1\n",
        "  \n",
        "  return grid, start, end"
      ]
    },
    {
      "cell_type": "code",
      "source": [
        "grid, start, end = load_file()\n",
        "print(grid[0][0])\n",
        "print(start)\n",
        "print(end)"
      ],
      "metadata": {
        "colab": {
          "base_uri": "https://localhost:8080/"
        },
        "id": "I7Qam26GhC-v",
        "outputId": "2b461edc-d8a9-43b8-9be8-dbf2ec619a63"
      },
      "execution_count": 15,
      "outputs": [
        {
          "output_type": "stream",
          "name": "stdout",
          "text": [
            "(20, 0)\n",
            "0\n",
            "(20, 0)\n",
            "(20, 88)\n"
          ]
        }
      ]
    },
    {
      "cell_type": "code",
      "source": [
        "def find_path(grid, start, end):\n",
        "  queue = [(0, start)]\n",
        "  visited = set()\n",
        "\n",
        "  while len(queue) > 0:\n",
        "    moves, pos = queue.pop(0)\n",
        "    if pos in visited:\n",
        "      continue\n",
        "    \n",
        "    visited.add(pos)\n",
        "\n",
        "    if pos[0] ==  end[0] and pos[1] == end[1]:\n",
        "      return moves\n",
        "    \n",
        "    val = grid[pos[0]][pos[1]]\n",
        "    # up \n",
        "    if pos[0] > 0 and grid[pos[0] - 1][pos[1]] - val <= 1:\n",
        "      queue.append((moves + 1, (pos[0] - 1, pos[1] )))\n",
        "    # left\n",
        "    if pos[1] > 0 and grid[pos[0]][pos[1] - 1 ] - val <= 1:\n",
        "      queue.append((moves + 1, (pos[0], pos[1] - 1 )))\n",
        "\n",
        "    # right\n",
        "    if pos[1] < len(grid[0]) - 1 and grid[pos[0]][pos[1] + 1 ] - val <= 1:\n",
        "      queue.append((moves + 1, (pos[0], pos[1] + 1 )))\n",
        "\n",
        "    # down\n",
        "    if pos[0] < len(grid) - 1 and grid[pos[0] + 1 ][pos[1]] - val <= 1:\n",
        "      queue.append((moves + 1, (pos[0] + 1, pos[1] )))\n",
        "\n",
        "\n",
        "  return -1"
      ],
      "metadata": {
        "id": "qsdxEe7jhFDf"
      },
      "execution_count": 18,
      "outputs": []
    },
    {
      "cell_type": "code",
      "source": [
        "d = find_path(grid, start, end)\n",
        "print(d)"
      ],
      "metadata": {
        "colab": {
          "base_uri": "https://localhost:8080/"
        },
        "id": "vHLCN-iMnLC1",
        "outputId": "01235150-174f-492a-c8dd-fc88bec8e6a1"
      },
      "execution_count": 19,
      "outputs": [
        {
          "output_type": "stream",
          "name": "stdout",
          "text": [
            "380\n"
          ]
        }
      ]
    },
    {
      "cell_type": "code",
      "source": [
        "def find_path2(grid, start):\n",
        "  queue = [(0, start)]\n",
        "  visited = set()\n",
        "\n",
        "  while len(queue) > 0:\n",
        "    moves, pos = queue.pop(0)\n",
        "    if pos in visited:\n",
        "      continue\n",
        "    \n",
        "    visited.add(pos)\n",
        "\n",
        "    val = grid[pos[0]][pos[1]]\n",
        "    if val == 0:\n",
        "      return moves\n",
        "\n",
        "    # up \n",
        "    if pos[0] > 0 and val - grid[pos[0] - 1][pos[1]]  <= 1:\n",
        "      queue.append((moves + 1, (pos[0] - 1, pos[1] )))\n",
        "    # left\n",
        "    if pos[1] > 0 and val - grid[pos[0]][pos[1] - 1 ] <= 1:\n",
        "      queue.append((moves + 1, (pos[0], pos[1] - 1 )))\n",
        "\n",
        "    # right\n",
        "    if pos[1] < len(grid[0]) - 1 and val - grid[pos[0]][pos[1] + 1 ]  <= 1:\n",
        "      queue.append((moves + 1, (pos[0], pos[1] + 1 )))\n",
        "\n",
        "    # down\n",
        "    if pos[0] < len(grid) - 1 and val -  grid[pos[0] + 1 ][pos[1]]  <= 1:\n",
        "      queue.append((moves + 1, (pos[0] + 1, pos[1] )))\n",
        "\n",
        "\n",
        "  return -1"
      ],
      "metadata": {
        "id": "MB_SodP7n6_i"
      },
      "execution_count": 20,
      "outputs": []
    },
    {
      "cell_type": "code",
      "source": [
        "d2 = find_path2(grid, end)\n",
        "print(d2)"
      ],
      "metadata": {
        "colab": {
          "base_uri": "https://localhost:8080/"
        },
        "id": "ho0Y4gLXu-Io",
        "outputId": "0cc1a5f6-884a-4eaa-89b8-8bcba84e7f96"
      },
      "execution_count": 21,
      "outputs": [
        {
          "output_type": "stream",
          "name": "stdout",
          "text": [
            "375\n"
          ]
        }
      ]
    },
    {
      "cell_type": "code",
      "source": [],
      "metadata": {
        "id": "H3pnXHHuvDPv"
      },
      "execution_count": null,
      "outputs": []
    }
  ]
}