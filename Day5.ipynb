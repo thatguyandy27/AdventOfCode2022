{
  "nbformat": 4,
  "nbformat_minor": 0,
  "metadata": {
    "colab": {
      "provenance": [],
      "authorship_tag": "ABX9TyOY7tBiughQ32Q8f157UxWT",
      "include_colab_link": true
    },
    "kernelspec": {
      "name": "python3",
      "display_name": "Python 3"
    },
    "language_info": {
      "name": "python"
    }
  },
  "cells": [
    {
      "cell_type": "markdown",
      "metadata": {
        "id": "view-in-github",
        "colab_type": "text"
      },
      "source": [
        "<a href=\"https://colab.research.google.com/github/thatguyandy27/AdventOfCode2022/blob/main/Day5.ipynb\" target=\"_parent\"><img src=\"https://colab.research.google.com/assets/colab-badge.svg\" alt=\"Open In Colab\"/></a>"
      ]
    },
    {
      "cell_type": "code",
      "execution_count": 7,
      "metadata": {
        "id": "mbXdecxejaNN"
      },
      "outputs": [],
      "source": [
        "def load_file():\n",
        "  file_name = 'input.dat'\n",
        "  with open(file_name) as f:\n",
        "    lines = f.readlines()\n",
        "\n",
        "  stacks = [[], [], [], [], [], [], [], [], []]\n",
        "  messages = []\n",
        "\n",
        "  for i in range(0, 8):\n",
        "    line = lines[i].replace('\\n', '')\n",
        "    for j in range(9):\n",
        "      c = line[3 * j + 1 + j]\n",
        "      if c != ' ':\n",
        "        stacks[j].insert(0, c)\n",
        "\n",
        "  for i in range(10, len(lines)):\n",
        "    line = lines[i].replace('\\n', '').replace(' ', '').replace('move', '')\n",
        "    s1 = line.split('from')\n",
        "    s2 = s1[1].split('to')\n",
        "    messages.append((int(s1[0]), int(s2[0]), int(s2[1])))\n",
        "  \n",
        "  return stacks, messages\n",
        "   "
      ]
    },
    {
      "cell_type": "code",
      "source": [
        "stacks, messages = load_file()"
      ],
      "metadata": {
        "id": "KfXIzzzhmicz"
      },
      "execution_count": 24,
      "outputs": []
    },
    {
      "cell_type": "code",
      "source": [
        "print(stacks)\n",
        "print(messages[0])\n",
        "print(messages[-1])"
      ],
      "metadata": {
        "colab": {
          "base_uri": "https://localhost:8080/"
        },
        "id": "h4gufNYbmn8y",
        "outputId": "307e7554-d96b-46ab-b444-f0dbc0956327"
      },
      "execution_count": 10,
      "outputs": [
        {
          "output_type": "stream",
          "name": "stdout",
          "text": [
            "[['G', 'D', 'V', 'Z', 'J', 'S', 'B'], ['Z', 'S', 'M', 'G', 'V', 'P'], ['C', 'L', 'B', 'S', 'W', 'T', 'Q', 'F'], ['H', 'J', 'G', 'W', 'M', 'R', 'V', 'Q'], ['C', 'L', 'S', 'N', 'F', 'M', 'D'], ['R', 'G', 'C', 'D'], ['H', 'G', 'T', 'R', 'J', 'D', 'S', 'Q'], ['P', 'F', 'V'], ['D', 'R', 'S', 'T', 'J']]\n",
            "(3, 5, 2)\n",
            "(8, 4, 9)\n"
          ]
        }
      ]
    },
    {
      "cell_type": "code",
      "source": [
        "def find_message(stacks, moves):\n",
        "  for move in moves:\n",
        "    n, f, t = move[0], move[1], move[2]\n",
        "    for i in range(n):\n",
        "      stacks[t - 1].append(stacks[f - 1].pop())\n",
        "  \n",
        "  \n",
        "  message = []\n",
        "  for s in stacks:\n",
        "    message.append(s[-1])\n",
        "  \n",
        "  return ''.join(message)\n",
        "  "
      ],
      "metadata": {
        "id": "6ElcQZR7mpmq"
      },
      "execution_count": 13,
      "outputs": []
    },
    {
      "cell_type": "code",
      "source": [
        "message = find_message(stacks, messages)\n",
        "print(message)"
      ],
      "metadata": {
        "colab": {
          "base_uri": "https://localhost:8080/"
        },
        "id": "R8q6DonFnGDJ",
        "outputId": "696abd20-3b54-4861-9eab-cbd373c88e5d"
      },
      "execution_count": 14,
      "outputs": [
        {
          "output_type": "stream",
          "name": "stdout",
          "text": [
            "WCZTHTMPS\n"
          ]
        }
      ]
    },
    {
      "cell_type": "code",
      "source": [
        "def find_message2(stacks, moves):\n",
        "  for move in moves:\n",
        "    n, f, t = move[0], move[1], move[2]\n",
        "    s = stacks[f - 1][-n:]\n",
        "    stacks[f - 1] = stacks[f - 1][:-n]\n",
        "    stacks[t - 1].extend(s)\n",
        "\n",
        "  message = []\n",
        "  for s in stacks:\n",
        "    message.append(s[-1])\n",
        "  \n",
        "  return ''.join(message)\n",
        "  \n"
      ],
      "metadata": {
        "id": "A94KlLcInvQa"
      },
      "execution_count": 25,
      "outputs": []
    },
    {
      "cell_type": "code",
      "source": [
        "s =  stacks[0]"
      ],
      "metadata": {
        "id": "INU06ePKoV6A"
      },
      "execution_count": 16,
      "outputs": []
    },
    {
      "cell_type": "code",
      "source": [
        "s"
      ],
      "metadata": {
        "colab": {
          "base_uri": "https://localhost:8080/"
        },
        "id": "s5K2SSZPoW6h",
        "outputId": "28040760-39bf-45a0-d881-b9d43bd20859"
      },
      "execution_count": 17,
      "outputs": [
        {
          "output_type": "execute_result",
          "data": {
            "text/plain": [
              "['J', 'V', 'S', 'D', 'C', 'F', 'Q', 'W']"
            ]
          },
          "metadata": {},
          "execution_count": 17
        }
      ]
    },
    {
      "cell_type": "code",
      "source": [
        "s[-3:]"
      ],
      "metadata": {
        "colab": {
          "base_uri": "https://localhost:8080/"
        },
        "id": "V9dS2c8qoY7S",
        "outputId": "ffbc5f41-2d9e-4eb9-a500-fc1b3a72cce2"
      },
      "execution_count": 18,
      "outputs": [
        {
          "output_type": "execute_result",
          "data": {
            "text/plain": [
              "['F', 'Q', 'W']"
            ]
          },
          "metadata": {},
          "execution_count": 18
        }
      ]
    },
    {
      "cell_type": "code",
      "source": [
        "test = [1, 2, 3, 4, 5, 6]\n",
        "test2 = test[-3:]\n",
        "test = test[0:-3]\n",
        "print(test)\n",
        "print(test2)"
      ],
      "metadata": {
        "colab": {
          "base_uri": "https://localhost:8080/"
        },
        "id": "efJrkZb9oavx",
        "outputId": "8c2ee3fd-c421-4cc6-d6f9-f569781aa464"
      },
      "execution_count": 19,
      "outputs": [
        {
          "output_type": "stream",
          "name": "stdout",
          "text": [
            "[1, 2, 3]\n",
            "[4, 5, 6]\n"
          ]
        }
      ]
    },
    {
      "cell_type": "code",
      "source": [
        "message2 = find_message2(stacks, messages)\n",
        "print(message2)"
      ],
      "metadata": {
        "colab": {
          "base_uri": "https://localhost:8080/"
        },
        "id": "SC_1y-IMo1i5",
        "outputId": "4f8800db-f950-4f9b-85f3-412e135d3263"
      },
      "execution_count": 26,
      "outputs": [
        {
          "output_type": "stream",
          "name": "stdout",
          "text": [
            "BLSGJSDTS\n"
          ]
        }
      ]
    },
    {
      "cell_type": "code",
      "source": [],
      "metadata": {
        "id": "fskBWjJEpYfy"
      },
      "execution_count": null,
      "outputs": []
    }
  ]
}