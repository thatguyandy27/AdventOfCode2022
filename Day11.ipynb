{
  "nbformat": 4,
  "nbformat_minor": 0,
  "metadata": {
    "colab": {
      "provenance": [],
      "authorship_tag": "ABX9TyMnIlo3w2gatvmamvScVlu8",
      "include_colab_link": true
    },
    "kernelspec": {
      "name": "python3",
      "display_name": "Python 3"
    },
    "language_info": {
      "name": "python"
    }
  },
  "cells": [
    {
      "cell_type": "markdown",
      "metadata": {
        "id": "view-in-github",
        "colab_type": "text"
      },
      "source": [
        "<a href=\"https://colab.research.google.com/github/thatguyandy27/AdventOfCode2022/blob/main/Day11.ipynb\" target=\"_parent\"><img src=\"https://colab.research.google.com/assets/colab-badge.svg\" alt=\"Open In Colab\"/></a>"
      ]
    },
    {
      "cell_type": "code",
      "execution_count": 1,
      "metadata": {
        "id": "TfsqrRM3EndP"
      },
      "outputs": [],
      "source": [
        "def get_init():\n",
        "  return [{\n",
        "      'items': [72, 97],\n",
        "      'op': lambda x: x * 13,\n",
        "      'test': lambda x: 5 if x % 19 == 0 else 6\n",
        "  },\n",
        "  {\n",
        "      'items': [ 55, 70, 90, 74, 95],\n",
        "      'op': lambda x: x * x,\n",
        "      'test': lambda x: 5 if x % 7 == 0 else 0\n",
        "  },{\n",
        "      'items': [74, 97, 66, 57],\n",
        "      'op': lambda x: x + 6,\n",
        "      'test': lambda x: 1 if x % 17 == 0 else 0\n",
        "  },\n",
        "  {\n",
        "      'items': [86, 54, 53],\n",
        "      'op': lambda x: x + 2,\n",
        "      'test': lambda x: 1 if x % 13 == 0 else 2\n",
        "  },\n",
        "  {\n",
        "      'items': [ 50, 65, 78, 50, 62, 99],\n",
        "      'op': lambda x: x + 3,\n",
        "      'test': lambda x: 3 if x % 11 == 0 else 7\n",
        "  }, {\n",
        "      'items': [90],\n",
        "      'op': lambda x: x + 4,\n",
        "      'test': lambda x: 4 if x % 2 == 0 else 6\n",
        "  }, {\n",
        "      'items': [88, 92, 63, 94, 96, 82, 53, 53],\n",
        "      'op': lambda x: x + 8,\n",
        "      'test': lambda x: 4 if x % 5 == 0 else 7\n",
        "  }, {\n",
        "      'items': [70, 60, 71, 69, 77, 70, 98],\n",
        "      'op': lambda x: x * 7,\n",
        "      'test': lambda x: 2 if x % 3 == 0 else 3\n",
        "  }]"
      ]
    },
    {
      "cell_type": "code",
      "source": [
        "monkeys = get_init()"
      ],
      "metadata": {
        "id": "tIC56jQ3FP38"
      },
      "execution_count": 2,
      "outputs": []
    },
    {
      "cell_type": "code",
      "source": [
        "monkeys[0]['op'](10)"
      ],
      "metadata": {
        "colab": {
          "base_uri": "https://localhost:8080/"
        },
        "id": "wSlsnHiiFW61",
        "outputId": "7b8d3dc7-4aab-467b-c954-5ee70a70d57c"
      },
      "execution_count": 3,
      "outputs": [
        {
          "output_type": "execute_result",
          "data": {
            "text/plain": [
              "130"
            ]
          },
          "metadata": {},
          "execution_count": 3
        }
      ]
    },
    {
      "cell_type": "code",
      "source": [
        "def count_inspections(m):\n",
        "  counts = [0] * len(m)\n",
        "  for r in range(20):\n",
        "    for i in range(len(m)):\n",
        "      monkey = m[i]\n",
        "      counts[i] += len(monkey['items'])\n",
        "      for item in monkey['items']:\n",
        "        v = monkey['op'](item) // 3\n",
        "        m_next = monkey['test'](v) \n",
        "        m[m_next]['items'].append(v) \n",
        "        # print(item, v, m_next)\n",
        "       \n",
        "      \n",
        "      monkey['items'] = monkey['items'][0:0]\n",
        "  \n",
        "  return counts\n"
      ],
      "metadata": {
        "id": "nS8KSFTOFZ-V"
      },
      "execution_count": 4,
      "outputs": []
    },
    {
      "cell_type": "code",
      "source": [
        "monkeys = get_init()\n",
        "inspections = sorted(count_inspections(monkeys))\n",
        "print(inspections[-1] * inspections[-2])\n",
        "print(inspections[1] * inspections[0])"
      ],
      "metadata": {
        "colab": {
          "base_uri": "https://localhost:8080/"
        },
        "id": "zGKzCmZcH0Ro",
        "outputId": "8f665613-22d0-443a-da01-010c03793b2c"
      },
      "execution_count": 5,
      "outputs": [
        {
          "output_type": "stream",
          "name": "stdout",
          "text": [
            "58056\n",
            "192\n"
          ]
        }
      ]
    },
    {
      "cell_type": "code",
      "source": [
        "import numpy as np\n",
        "\n",
        "\n",
        "def count_inspections2(m):\n",
        "  counts = [0] * len(m)\n",
        "  d = 9699690\n",
        "\n",
        "  for r in range(10000):\n",
        "    for i in range(len(m)):\n",
        "      monkey = m[i]\n",
        "      counts[i] += len(monkey['items'])\n",
        "      for item in monkey['items']:\n",
        "        v = monkey['op'](item) % d\n",
        "        m_next = monkey['test'](v) \n",
        "        m[m_next]['items'].append(v) \n",
        "        # print(item, v, m_next)\n",
        "       \n",
        "      \n",
        "      monkey['items'] = monkey['items'][0:0]\n",
        "  \n",
        "  return counts\n"
      ],
      "metadata": {
        "id": "9tpshCu1H9sZ"
      },
      "execution_count": 18,
      "outputs": []
    },
    {
      "cell_type": "code",
      "source": [
        "monkeys = get_init()\n",
        "inspections = sorted(count_inspections2(monkeys))\n",
        "print(inspections[-1] * inspections[-2])\n",
        "print(inspections[1] * inspections[0])"
      ],
      "metadata": {
        "colab": {
          "base_uri": "https://localhost:8080/"
        },
        "id": "cwiowMWRL1Bo",
        "outputId": "1e873d57-5350-43e7-b3de-fffff1f8e7a8"
      },
      "execution_count": 19,
      "outputs": [
        {
          "output_type": "stream",
          "name": "stdout",
          "text": [
            "15048718170\n",
            "31444410\n"
          ]
        }
      ]
    },
    {
      "cell_type": "code",
      "source": [],
      "metadata": {
        "id": "DUFoJMwqL3II"
      },
      "execution_count": null,
      "outputs": []
    }
  ]
}