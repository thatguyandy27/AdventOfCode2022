{
  "nbformat": 4,
  "nbformat_minor": 0,
  "metadata": {
    "colab": {
      "provenance": [],
      "authorship_tag": "ABX9TyNMkIDmLZkVKBZZVLGmsoPU",
      "include_colab_link": true
    },
    "kernelspec": {
      "name": "python3",
      "display_name": "Python 3"
    },
    "language_info": {
      "name": "python"
    }
  },
  "cells": [
    {
      "cell_type": "markdown",
      "metadata": {
        "id": "view-in-github",
        "colab_type": "text"
      },
      "source": [
        "<a href=\"https://colab.research.google.com/github/thatguyandy27/AdventOfCode2022/blob/main/Day10.ipynb\" target=\"_parent\"><img src=\"https://colab.research.google.com/assets/colab-badge.svg\" alt=\"Open In Colab\"/></a>"
      ]
    },
    {
      "cell_type": "code",
      "execution_count": 17,
      "metadata": {
        "id": "Ib4Tatx2nUKZ"
      },
      "outputs": [],
      "source": [
        "def load_file(file_name= 'input.dat'):\n",
        "  with open(file_name) as f:\n",
        "    lines = f.readlines()\n",
        "  \n",
        "  cmds = []\n",
        "  for line in lines:\n",
        "    line = line.replace('\\n', '')\n",
        "    s = line.split(' ')\n",
        "    if len(s) > 1:\n",
        "      cmds.append( (s[0], int(s[1])))\n",
        "    else:\n",
        "      cmds.append( (s[0]))\n",
        "  \n",
        "  return cmds \n"
      ]
    },
    {
      "cell_type": "code",
      "source": [
        "cmds = load_file()\n",
        "print(cmds[0])\n",
        "print(cmds[-1])"
      ],
      "metadata": {
        "colab": {
          "base_uri": "https://localhost:8080/"
        },
        "id": "RcuHM3X4n0-J",
        "outputId": "3faeca07-76cf-47a9-89ad-ab791a307d20"
      },
      "execution_count": 18,
      "outputs": [
        {
          "output_type": "stream",
          "name": "stdout",
          "text": [
            "('addx', 2)\n",
            "noop\n"
          ]
        }
      ]
    },
    {
      "cell_type": "code",
      "source": [
        "def calc_strengths(cmds):\n",
        "  registers=[20, 60, 100, 140, 180, 220]\n",
        "  total = 0\n",
        "  x = 1\n",
        "  i = 1\n",
        "  queue = []\n",
        "  for cmd in cmds:\n",
        "    if len(registers) == 0:\n",
        "      break\n",
        "    # noop\n",
        "\n",
        "    if len(cmd) == 1 or cmd == 'noop':\n",
        "      queue.append(0)\n",
        "    else:\n",
        "      queue.append(0)\n",
        "      queue.append(cmd[1])\n",
        "    \n",
        "    if i == registers[0]:\n",
        "      print('i = ', i,  'x = ', x)\n",
        "      total += x * registers[0]\n",
        "      registers.pop(0)\n",
        "\n",
        "    #execute command\n",
        "    cmd = queue.pop(0)\n",
        "    x += cmd\n",
        "    \n",
        "    # if i == 19 or i == 59 or i == 99 or i == 139 or i == 179 or i == 219:\n",
        "    #    print('i = ', i,  'x = ', x)\n",
        "     \n",
        "    i += 1\n",
        "   \n",
        "  print('starting queue')\n",
        "  while len(queue) > 0:\n",
        "    if len(registers) == 0:\n",
        "      break\n",
        "   \n",
        "\n",
        "    if i == registers[0]:\n",
        "      print('i = ', i,  'x = ', x)\n",
        "      total += x * registers[0]\n",
        "      registers.pop(0)\n",
        "\n",
        "    #execute command\n",
        "    cmd = queue.pop(0)\n",
        "    x += cmd\n",
        "    \n",
        "    #print(x, i)\n",
        "    # if i == 19 or i == 59 or i == 99 or i == 139 or i == 179 or i == 219:\n",
        "    #    print('i = ', i,  'x = ', x)\n",
        "\n",
        "    i += 1\n",
        "  return total\n",
        "    \n",
        "\n",
        "  "
      ],
      "metadata": {
        "id": "fGco3zLWn5Yd"
      },
      "execution_count": 19,
      "outputs": []
    },
    {
      "cell_type": "code",
      "source": [
        "s = calc_strengths(cmds)\n",
        "print(s)"
      ],
      "metadata": {
        "colab": {
          "base_uri": "https://localhost:8080/"
        },
        "id": "-qJYhPoCvkzt",
        "outputId": "c5ab4574-40c3-40e5-8f11-2ed235de5e00"
      },
      "execution_count": 20,
      "outputs": [
        {
          "output_type": "stream",
          "name": "stdout",
          "text": [
            "i =  20 x =  21\n",
            "i =  60 x =  17\n",
            "i =  100 x =  4\n",
            "i =  140 x =  21\n",
            "starting queue\n",
            "i =  180 x =  21\n",
            "i =  220 x =  21\n",
            "13180\n"
          ]
        }
      ]
    },
    {
      "cell_type": "markdown",
      "source": [],
      "metadata": {
        "id": "FUH3MOVX1lNT"
      }
    },
    {
      "cell_type": "code",
      "source": [
        "testcmds = load_file('test.dat')\n",
        "stest = calc_strengths(testcmds)\n",
        "print(stest)"
      ],
      "metadata": {
        "colab": {
          "base_uri": "https://localhost:8080/"
        },
        "id": "JfozQyLWvoTM",
        "outputId": "81a65cc2-3d52-416d-d18a-b5236b7ed5b7"
      },
      "execution_count": 21,
      "outputs": [
        {
          "output_type": "stream",
          "name": "stdout",
          "text": [
            "i =  20 x =  21\n",
            "i =  60 x =  19\n",
            "i =  100 x =  18\n",
            "i =  140 x =  21\n",
            "starting queue\n",
            "i =  180 x =  16\n",
            "i =  220 x =  18\n",
            "13140\n"
          ]
        }
      ]
    },
    {
      "cell_type": "code",
      "source": [
        "def load_file2(file_name= 'input.dat'):\n",
        "  with open(file_name) as f:\n",
        "    lines = f.readlines()\n",
        "  \n",
        "  cmds = []\n",
        "  for line in lines:\n",
        "    line = line.replace('\\n', '')\n",
        "    s = line.split(' ')\n",
        "    if len(s) > 1:\n",
        "      cmds.append( (s[0], 0))\n",
        "      cmds.append( (s[0], int(s[1])))\n",
        "    else:\n",
        "      cmds.append( (s[0], 0))\n",
        "  \n",
        "  return cmds \n"
      ],
      "metadata": {
        "id": "nXMQkZhawlSZ"
      },
      "execution_count": 22,
      "outputs": []
    },
    {
      "cell_type": "code",
      "source": [
        "testcmds2 = load_file('test.dat')"
      ],
      "metadata": {
        "id": "GQwlFPQz-wHc"
      },
      "execution_count": 23,
      "outputs": []
    },
    {
      "cell_type": "code",
      "source": [
        "def calc_strengths2(cmds):\n",
        "  registers=[20, 60, 100, 140, 180, 220]\n",
        "  x = 1\n",
        "  total = 0\n",
        "  for cycle, (instruction, value) in enumerate(cmds, 1):\n",
        "        # make the cycle check\n",
        "        if (cycle + 20) % 40 == 0:\n",
        "            total += x*cycle\n",
        "\n",
        "        # update the signal\n",
        "        x += value\n",
        "\n",
        "  return total"
      ],
      "metadata": {
        "id": "GL8vV1Di-zV2"
      },
      "execution_count": 24,
      "outputs": []
    },
    {
      "cell_type": "code",
      "source": [
        "testcmds = load_file2('test.dat')\n",
        "stest = calc_strengths2(testcmds)\n",
        "print(stest)"
      ],
      "metadata": {
        "colab": {
          "base_uri": "https://localhost:8080/"
        },
        "id": "ekw2IF8tAAgw",
        "outputId": "975160ad-bbe7-4ba8-887f-86a37a917db6"
      },
      "execution_count": 25,
      "outputs": [
        {
          "output_type": "stream",
          "name": "stdout",
          "text": [
            "13140\n"
          ]
        }
      ]
    },
    {
      "cell_type": "code",
      "source": [
        "cmds = load_file2('input.dat')\n",
        "answer = calc_strengths2(cmds)\n",
        "print(answer)"
      ],
      "metadata": {
        "colab": {
          "base_uri": "https://localhost:8080/"
        },
        "id": "ZpZpVaDcAD8R",
        "outputId": "1dcf4a8c-373e-4079-f4a5-e93fc294ef98"
      },
      "execution_count": 26,
      "outputs": [
        {
          "output_type": "stream",
          "name": "stdout",
          "text": [
            "13180\n"
          ]
        }
      ]
    },
    {
      "cell_type": "code",
      "source": [
        "def get_drawing(cmds):\n",
        "  registers=[20, 60, 100, 140, 180, 220]\n",
        "  x = 1\n",
        "  total = 0\n",
        "  pixels = []\n",
        "  curr_row = []\n",
        "  for cycle, (instruction, value) in enumerate(cmds, 1):\n",
        "        if abs(x - ((cycle - 1 )% 40)) <= 1:\n",
        "          curr_row.append(\"#\")\n",
        "        else:\n",
        "          curr_row.append(\".\")\n",
        "        # make the cycle check\n",
        "        if (cycle) % 40 == 0:\n",
        "            pixels.append(curr_row)\n",
        "            curr_row = []\n",
        "\n",
        "        # update the signal\n",
        "        x += value\n",
        "\n",
        "  return pixels"
      ],
      "metadata": {
        "id": "Xp56gaCuAMOb"
      },
      "execution_count": 44,
      "outputs": []
    },
    {
      "cell_type": "code",
      "source": [
        "testcmds = load_file2('test.dat')\n",
        "pixels = get_drawing(testcmds)\n",
        "for row in pixels:\n",
        "  print(''.join(row))"
      ],
      "metadata": {
        "colab": {
          "base_uri": "https://localhost:8080/"
        },
        "id": "lEvCNKmjjwz5",
        "outputId": "afdf8fc4-1dde-47c4-b362-893688825d23"
      },
      "execution_count": 45,
      "outputs": [
        {
          "output_type": "stream",
          "name": "stdout",
          "text": [
            "##..##..##..##..##..##..##..##..##..##..\n",
            "###...###...###...###...###...###...###.\n",
            "####....####....####....####....####....\n",
            "#####.....#####.....#####.....#####.....\n",
            "######......######......######......####\n",
            "#######.......#######.......#######.....\n"
          ]
        }
      ]
    },
    {
      "cell_type": "code",
      "source": [
        "cmds = load_file2('input.dat')\n",
        "pixels = get_drawing(cmds)\n",
        "for row in pixels:\n",
        "  print(''.join(row))"
      ],
      "metadata": {
        "colab": {
          "base_uri": "https://localhost:8080/"
        },
        "id": "JQ_82GI5j2_c",
        "outputId": "aee845a2-b098-444f-a2bc-cfe6614df55a"
      },
      "execution_count": 46,
      "outputs": [
        {
          "output_type": "stream",
          "name": "stdout",
          "text": [
            "####.####.####..##..#..#...##..##..###..\n",
            "#.......#.#....#..#.#..#....#.#..#.#..#.\n",
            "###....#..###..#....####....#.#..#.###..\n",
            "#.....#...#....#....#..#....#.####.#..#.\n",
            "#....#....#....#..#.#..#.#..#.#..#.#..#.\n",
            "####.####.#.....##..#..#..##..#..#.###..\n"
          ]
        }
      ]
    },
    {
      "cell_type": "code",
      "source": [],
      "metadata": {
        "id": "tYpZSSmslvBz"
      },
      "execution_count": null,
      "outputs": []
    }
  ]
}