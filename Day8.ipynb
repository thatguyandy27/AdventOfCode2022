{
  "nbformat": 4,
  "nbformat_minor": 0,
  "metadata": {
    "colab": {
      "provenance": [],
      "authorship_tag": "ABX9TyPhvZtU/1S42Sqqhg46vH5C",
      "include_colab_link": true
    },
    "kernelspec": {
      "name": "python3",
      "display_name": "Python 3"
    },
    "language_info": {
      "name": "python"
    }
  },
  "cells": [
    {
      "cell_type": "markdown",
      "metadata": {
        "id": "view-in-github",
        "colab_type": "text"
      },
      "source": [
        "<a href=\"https://colab.research.google.com/github/thatguyandy27/AdventOfCode2022/blob/main/Day8.ipynb\" target=\"_parent\"><img src=\"https://colab.research.google.com/assets/colab-badge.svg\" alt=\"Open In Colab\"/></a>"
      ]
    },
    {
      "cell_type": "code",
      "execution_count": null,
      "metadata": {
        "id": "P3nwwdoWN36b"
      },
      "outputs": [],
      "source": [
        "def parse_file():\n",
        "  file_name = 'input.dat'\n",
        "  with open(file_name) as f:\n",
        "    lines = f.readlines()\n",
        "  \n",
        "  trees = []\n",
        "  for line in lines:\n",
        "    line = line.replace('\\n', '')\n",
        "    t = []\n",
        "    for l in line:\n",
        "      t.append(int(l))\n",
        "  \n",
        "    trees.append(t)\n",
        "  \n",
        "  return trees\n"
      ]
    },
    {
      "cell_type": "code",
      "source": [
        "trees = parse_file()\n",
        "print(trees[0])\n",
        "print(trees[-1])"
      ],
      "metadata": {
        "colab": {
          "base_uri": "https://localhost:8080/"
        },
        "id": "b09r4eh3PEIB",
        "outputId": "982aae83-9536-4b8a-ff3f-228a21fa43c2"
      },
      "execution_count": null,
      "outputs": [
        {
          "output_type": "stream",
          "name": "stdout",
          "text": [
            "[2, 0, 2, 0, 0, 2, 3, 1, 3, 3, 2, 2, 4, 4, 3, 4, 4, 3, 3, 3, 3, 4, 1, 3, 2, 0, 5, 2, 1, 4, 1, 4, 0, 3, 2, 0, 0, 2, 5, 4, 5, 0, 3, 1, 6, 3, 6, 4, 5, 0, 4, 1, 4, 1, 2, 6, 4, 1, 2, 3, 1, 1, 4, 3, 0, 4, 2, 0, 3, 3, 0, 3, 1, 1, 4, 0, 0, 1, 1, 2, 3, 2, 0, 4, 0, 0, 3, 4, 2, 0, 1, 0, 2, 0, 3, 0, 3, 0, 0]\n",
            "[3, 0, 1, 3, 0, 2, 2, 4, 3, 1, 3, 3, 1, 1, 3, 0, 0, 0, 1, 1, 5, 5, 5, 3, 3, 0, 4, 4, 3, 5, 5, 5, 1, 5, 0, 5, 3, 5, 2, 6, 1, 5, 1, 4, 6, 1, 1, 5, 0, 3, 1, 6, 6, 1, 5, 5, 1, 1, 6, 1, 0, 5, 0, 4, 1, 2, 5, 2, 1, 4, 2, 0, 1, 4, 1, 4, 0, 0, 1, 3, 4, 2, 2, 2, 4, 2, 4, 0, 1, 0, 3, 0, 4, 0, 1, 2, 1, 3, 3]\n"
          ]
        }
      ]
    },
    {
      "cell_type": "code",
      "source": [
        "def count_visible(trees):\n",
        "  count = 0\n",
        "  max_top = [-1] * len(trees[0])\n",
        "  max_bottom = [-1] * len(trees[0]) \n",
        "  max_left = [-1] * len(trees)\n",
        "  max_right = [-1] * len(trees)\n",
        "  \n",
        "  visible = set([])\n",
        "\n",
        "  l = 0\n",
        "  t = 0\n",
        "  r = len(trees[0])\n",
        "  b = len(trees)\n",
        "\n",
        "  # go left to right top row and bottom row\n",
        "  for j in range(0 , len(trees)):\n",
        "    for i in range(0, len(trees[0])):\n",
        "      top = trees[j][i]\n",
        "      bottom = trees[b - 1 - j][i]\n",
        "      if top > max_top[i]:\n",
        "        c = (j, i)\n",
        "        if c not in visible:\n",
        "          count += 1\n",
        "        visible.add(c)\n",
        "        max_top[i] = top\n",
        "\n",
        "      if bottom > max_bottom[i]:\n",
        "        c = (b - 1 - j, i)\n",
        "        if c not in visible:\n",
        "          count += 1\n",
        "        visible.add(c)\n",
        "\n",
        "        max_bottom[i] = bottom\n",
        "\n",
        "  for j in range(0 , len(trees[0])):\n",
        "    for i in range(0, len(trees[0])):   \n",
        "      left = trees[i][j]\n",
        "      right = trees[i][r - 1 - j]\n",
        "\n",
        "      if left > max_left[i]:\n",
        "        c = (i, j)\n",
        "        if c not in visible:\n",
        "          count += 1\n",
        "        visible.add(c)\n",
        "        max_left[i] = left\n",
        "\n",
        "      if right > max_right[i]:\n",
        "        c = (i, r - 1 - j)\n",
        "        if c not in visible:\n",
        "          count += 1\n",
        "        visible.add(c)\n",
        "\n",
        "        max_right[i] = right\n",
        "\n",
        "  return count"
      ],
      "metadata": {
        "id": "AHCdSoDrPJY5"
      },
      "execution_count": null,
      "outputs": []
    },
    {
      "cell_type": "code",
      "source": [
        "count = count_visible(trees)"
      ],
      "metadata": {
        "id": "tIKv72PKTFTm"
      },
      "execution_count": null,
      "outputs": []
    },
    {
      "cell_type": "code",
      "source": [
        "count"
      ],
      "metadata": {
        "colab": {
          "base_uri": "https://localhost:8080/"
        },
        "id": "nnG_LSp6TJpW",
        "outputId": "7e32f004-3f24-48b5-9f2b-6ac96ce2179e"
      },
      "execution_count": null,
      "outputs": [
        {
          "output_type": "execute_result",
          "data": {
            "text/plain": [
              "1669"
            ]
          },
          "metadata": {},
          "execution_count": 19
        }
      ]
    },
    {
      "cell_type": "code",
      "source": [
        "print(len(trees))\n",
        "print(len(trees[0]))"
      ],
      "metadata": {
        "colab": {
          "base_uri": "https://localhost:8080/"
        },
        "id": "x2oMlK2GTKSW",
        "outputId": "aecf9b35-f0dc-46f3-c743-d2275c3dade2"
      },
      "execution_count": null,
      "outputs": [
        {
          "output_type": "stream",
          "name": "stdout",
          "text": [
            "99\n",
            "99\n"
          ]
        }
      ]
    },
    {
      "cell_type": "code",
      "source": [
        "def find_best_score(trees):\n",
        "  best = -1\n",
        "\n",
        "  for i in range(1, len(trees) - 1):\n",
        "    for j in range(1, len(trees[0]) - 1):\n",
        "        best = max(calc_score(trees, i, j), best)\n",
        "\n",
        "  return best\n"
      ],
      "metadata": {
        "id": "IQ4ctvYBUX3m"
      },
      "execution_count": null,
      "outputs": []
    },
    {
      "cell_type": "code",
      "source": [
        "def calc_score(trees, i, j):\n",
        "  tree = trees[i][j]\n",
        "  top = 1\n",
        "  bottom = 1\n",
        "  left = 1\n",
        "  right = 1\n",
        "\n",
        "  x = i - 1\n",
        "  while x > 0 and trees[x][j] < tree:\n",
        "    top += 1\n",
        "    x -= 1\n",
        "\n",
        "  x = i + 1\n",
        "  while x < len(trees) - 1 and trees[x][j] < tree:\n",
        "    bottom += 1\n",
        "    x += 1\n",
        "  \n",
        "  x = j - 1\n",
        "  while x > 0 and trees[i][x] < tree:\n",
        "    left += 1\n",
        "    x -= 1\n",
        "\n",
        "  x = j + 1\n",
        "  while x < len(trees) - 1 and trees[i][x] < tree:\n",
        "    right += 1\n",
        "    x += 1\n",
        "\n",
        "  return top * bottom * left * right"
      ],
      "metadata": {
        "id": "ydEjLHAaVrW-"
      },
      "execution_count": null,
      "outputs": []
    },
    {
      "cell_type": "code",
      "source": [
        "score2 = find_best_score(trees)\n",
        "print(score2)"
      ],
      "metadata": {
        "colab": {
          "base_uri": "https://localhost:8080/"
        },
        "id": "C_PpTutDXouE",
        "outputId": "06334717-7c86-4fa0-b2ef-883b8aeb8afe"
      },
      "execution_count": null,
      "outputs": [
        {
          "output_type": "stream",
          "name": "stdout",
          "text": [
            "331344\n"
          ]
        }
      ]
    },
    {
      "cell_type": "code",
      "source": [],
      "metadata": {
        "id": "Cdb7Ze0EXs4j"
      },
      "execution_count": null,
      "outputs": []
    }
  ]
}