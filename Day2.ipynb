{
  "nbformat": 4,
  "nbformat_minor": 0,
  "metadata": {
    "colab": {
      "provenance": [],
      "authorship_tag": "ABX9TyOt+Tqd5ikVkImDo5xgRF9z",
      "include_colab_link": true
    },
    "kernelspec": {
      "name": "python3",
      "display_name": "Python 3"
    },
    "language_info": {
      "name": "python"
    }
  },
  "cells": [
    {
      "cell_type": "markdown",
      "metadata": {
        "id": "view-in-github",
        "colab_type": "text"
      },
      "source": [
        "<a href=\"https://colab.research.google.com/github/thatguyandy27/AdventOfCode2022/blob/main/Day2.ipynb\" target=\"_parent\"><img src=\"https://colab.research.google.com/assets/colab-badge.svg\" alt=\"Open In Colab\"/></a>"
      ]
    },
    {
      "cell_type": "code",
      "execution_count": 1,
      "metadata": {
        "id": "4BDUnldjPnr_"
      },
      "outputs": [],
      "source": [
        "def load_file():\n",
        "  file_name = 'input.dat'\n",
        "  with open(file_name) as f:\n",
        "    lines = f.readlines()\n",
        "  \n",
        "  outcomes = []\n",
        "  for line in lines:\n",
        "    outcomes.append((line[0], line[2]))\n",
        "  \n",
        "  return outcomes \n"
      ]
    },
    {
      "cell_type": "code",
      "source": [
        "def get_score(outcomes):\n",
        "  results = {\n",
        "      'A': {\n",
        "          'X': 3,\n",
        "          'Y': 6,\n",
        "          'Z': 0\n",
        "      },\n",
        "      'B':{\n",
        "          'X': 0,\n",
        "          'Y': 3,\n",
        "          'Z': 6 \n",
        "      }, \n",
        "      'C': {\n",
        "          'X': 6,\n",
        "          'Y': 0,\n",
        "          'Z': 3 \n",
        "      }\n",
        "  }\n",
        "\n",
        "  bonus = {'X': 1, 'Y': 2, 'Z': 3}\n",
        "\n",
        "  total = 0\n",
        "\n",
        "  for outcome in outcomes:\n",
        "    score = results[outcome[0]][outcome[1]] + bonus[outcome[1]]\n",
        "    total += score\n",
        "  \n",
        "  return total\n"
      ],
      "metadata": {
        "id": "J0OQHQ2CRhF-"
      },
      "execution_count": 2,
      "outputs": []
    },
    {
      "cell_type": "code",
      "source": [
        "outcomes = load_file()"
      ],
      "metadata": {
        "id": "bWjV_5v9S6v9"
      },
      "execution_count": 3,
      "outputs": []
    },
    {
      "cell_type": "code",
      "source": [
        "score = get_score(outcomes)"
      ],
      "metadata": {
        "id": "sswKvDSvS_8l"
      },
      "execution_count": 4,
      "outputs": []
    },
    {
      "cell_type": "code",
      "source": [
        "score"
      ],
      "metadata": {
        "colab": {
          "base_uri": "https://localhost:8080/"
        },
        "id": "k71NeNPUTCrU",
        "outputId": "b9a64a8c-9273-4b48-9417-8fc67b9acd94"
      },
      "execution_count": 5,
      "outputs": [
        {
          "output_type": "execute_result",
          "data": {
            "text/plain": [
              "9651"
            ]
          },
          "metadata": {},
          "execution_count": 5
        }
      ]
    },
    {
      "cell_type": "code",
      "source": [
        "def get_score2(outcomes):\n",
        "  bonus = {'A': 1, 'B': 2, 'C': 3}\n",
        "  win_map = {'A': 'B', 'B': 'C', 'C': 'A'}\n",
        "  loss_map = {'A': 'C', 'B': 'A', 'C': 'B'}\n",
        "  total = 0\n",
        "  for outcome in outcomes:\n",
        "    if outcome[1] == 'X':\n",
        "      score = 0\n",
        "      choice = loss_map[outcome[0]]\n",
        "    elif outcome[1] == 'Y':\n",
        "      score = 3\n",
        "      choice = outcome[0]\n",
        "    else:\n",
        "      score = 6\n",
        "      choice = win_map[outcome[0]]\n",
        "\n",
        "    total += score + bonus[choice]\n",
        "  return total\n",
        "  "
      ],
      "metadata": {
        "id": "X4Sspix4TDVU"
      },
      "execution_count": 8,
      "outputs": []
    },
    {
      "cell_type": "code",
      "source": [
        "score2 = get_score2(outcomes)\n",
        "print(score2)"
      ],
      "metadata": {
        "colab": {
          "base_uri": "https://localhost:8080/"
        },
        "id": "t-qnpjiFUNcF",
        "outputId": "87735e8c-ee80-4664-8ee0-20867c84fd13"
      },
      "execution_count": 9,
      "outputs": [
        {
          "output_type": "stream",
          "name": "stdout",
          "text": [
            "10560\n"
          ]
        }
      ]
    },
    {
      "cell_type": "code",
      "source": [],
      "metadata": {
        "id": "NmxENXD4UZrq"
      },
      "execution_count": null,
      "outputs": []
    }
  ]
}