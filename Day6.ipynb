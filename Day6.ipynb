{
  "nbformat": 4,
  "nbformat_minor": 0,
  "metadata": {
    "colab": {
      "provenance": [],
      "authorship_tag": "ABX9TyPBKWutQCBkAMMaaFrQ7B2G",
      "include_colab_link": true
    },
    "kernelspec": {
      "name": "python3",
      "display_name": "Python 3"
    },
    "language_info": {
      "name": "python"
    }
  },
  "cells": [
    {
      "cell_type": "markdown",
      "metadata": {
        "id": "view-in-github",
        "colab_type": "text"
      },
      "source": [
        "<a href=\"https://colab.research.google.com/github/thatguyandy27/AdventOfCode2022/blob/main/Day6.ipynb\" target=\"_parent\"><img src=\"https://colab.research.google.com/assets/colab-badge.svg\" alt=\"Open In Colab\"/></a>"
      ]
    },
    {
      "cell_type": "code",
      "execution_count": 1,
      "metadata": {
        "id": "XvmxNCFzDgGu"
      },
      "outputs": [],
      "source": [
        "def load_file():\n",
        "  file_name = 'input.dat'\n",
        "  with open(file_name) as f:\n",
        "    lines = f.readlines()\n",
        "  \n",
        "  for i in range(len(lines)):\n",
        "    lines[i] = lines[i].replace('\\n', '')\n",
        "  \n",
        "  return lines"
      ]
    },
    {
      "cell_type": "code",
      "source": [
        "cmds = load_file()"
      ],
      "metadata": {
        "id": "LECV_hFgD7sx"
      },
      "execution_count": 2,
      "outputs": []
    },
    {
      "cell_type": "code",
      "source": [
        "def parse_commands(cmds):\n",
        "  dir = {\n",
        "      '/' : {}\n",
        "  }\n",
        "\n",
        "  stack = [dir['/']]\n",
        "\n",
        "  i = 0\n",
        "  while i < len(cmds):\n",
        "    cmd = cmds[i]\n",
        "    if cmd[0] != '$':\n",
        "      print('NOT A COMMAND I SCREWED UP')\n",
        "    s = cmd.split(' ')\n",
        "    if s[1] == 'cd':\n",
        "      # change directory\n",
        "      if s[2] ==  '/':\n",
        "        stack = [dir['/']]\n",
        "      elif s[2] == '..':\n",
        "        stack.pop()\n",
        "      else:\n",
        "        if s[2] not in stack[-1]:\n",
        "          print(s[2], ' not in ', i)\n",
        "\n",
        "        else:\n",
        "          stack.append(stack[-1][s[2]])  \n",
        "      \n",
        "      if len(stack) == 0:\n",
        "        print('stack is empty', i)\n",
        "        stack = [dir['/']]\n",
        "      \n",
        "      i += 1\n",
        "    elif s[1] == 'ls':\n",
        "      # list direcotry\n",
        "      i += 1\n",
        "      i = get_files(cmds, stack[-1], i)\n",
        "\n",
        "    else:\n",
        "      print('undhandled command ', i)\n",
        "\n",
        "  return dir\n",
        "    "
      ],
      "metadata": {
        "id": "qPlb6xHRD95F"
      },
      "execution_count": 10,
      "outputs": []
    },
    {
      "cell_type": "code",
      "source": [
        "def get_files(cmds, dir, cursor):\n",
        "  while len(cmds) > cursor and cmds[cursor][0] != '$':\n",
        "    s = cmds[cursor].split(' ')\n",
        "    if s[0] == 'dir':\n",
        "      dir[s[1]] = {}\n",
        "    else:\n",
        "      dir[s[1]] = int(s[0])\n",
        "    cursor += 1\n",
        "  return cursor"
      ],
      "metadata": {
        "id": "_CKsxSUoEB-N"
      },
      "execution_count": 7,
      "outputs": []
    },
    {
      "cell_type": "code",
      "source": [
        "test = {}\n",
        "cursor = 6\n",
        "print(get_files(cmds, test, cursor))"
      ],
      "metadata": {
        "colab": {
          "base_uri": "https://localhost:8080/"
        },
        "id": "4itPPne3KYEo",
        "outputId": "2d23bfcb-66d1-4f6e-ac5c-c521659fee88"
      },
      "execution_count": 8,
      "outputs": [
        {
          "output_type": "stream",
          "name": "stdout",
          "text": [
            "12\n"
          ]
        }
      ]
    },
    {
      "cell_type": "code",
      "source": [
        "print(cmds[cursor])\n",
        "print(test)"
      ],
      "metadata": {
        "colab": {
          "base_uri": "https://localhost:8080/"
        },
        "id": "TAQJmwZ1KnE9",
        "outputId": "f912a66e-2580-482f-c557-846da878977a"
      },
      "execution_count": 9,
      "outputs": [
        {
          "output_type": "stream",
          "name": "stdout",
          "text": [
            "324644 lthcng.gnf\n",
            "{'lthcng.gnf': 324644, 'nblfzrb.mrr': 133181, 'sfrbjmmh.jnj': 140568, 'tfsh': {}, 'vlsqgrw': {}, 'vmpgqbcd': 202279}\n"
          ]
        }
      ]
    },
    {
      "cell_type": "code",
      "source": [
        "dir = parse_commands(cmds)"
      ],
      "metadata": {
        "id": "sZ5sUR7uKpxf"
      },
      "execution_count": 11,
      "outputs": []
    },
    {
      "cell_type": "code",
      "source": [
        "dir"
      ],
      "metadata": {
        "colab": {
          "base_uri": "https://localhost:8080/"
        },
        "id": "Zs3jOcMpLHhj",
        "outputId": "13487e8f-aee2-4b14-9971-ab195bd7251f"
      },
      "execution_count": 12,
      "outputs": [
        {
          "output_type": "execute_result",
          "data": {
            "text/plain": [
              "{'/': {'btsgrbd': {'cmfdm': {'gldnjj': {'dvght': {'tfbzq': {'tcghw.srg': 276592}},\n",
              "     'lwvtzd.pws': 93750,\n",
              "     'sdwnsgwv.mjm': 176529,\n",
              "     'vmpgqbcd': 100111},\n",
              "    'vhf': {'hfm.rfp': 240217, 'nblfzrb': {'jhc': 160378}}},\n",
              "   'cqd': {'bnddfgrb': 305358,\n",
              "    'dwqncqp': {'slpgmhv': 122570, 'zlnbcwr': 278461},\n",
              "    'hnnfdtbh': {'gfprhn.rjj': 334830},\n",
              "    'jhc': {'fgb.btb': 179593},\n",
              "    'nblfzrb': {'clbcgvhc': {'hnn': 285825, 'nblfzrb.wvr': 238272},\n",
              "     'jhc': {'nblfzrb.svz': 99731},\n",
              "     'lsrnz': {'fsthnpmd': 257843},\n",
              "     'mctd': {'zlnbcwr': 278117}},\n",
              "    'scnm.qbf': 327762,\n",
              "    'vmpgqbcd': 165080,\n",
              "    'vzgwwjq.zbp': 190041,\n",
              "    'zwv': {'jhc': 40349,\n",
              "     'pqwml': {'hbzvzwpr': 193573},\n",
              "     'sdwnsgwv.mjm': 173804}},\n",
              "   'gvwvs': {'gjslw': {'gzbm': {'fst': {'mqpg': 99806},\n",
              "      'gpjz': {'dnsvsp': {'vmdbpwj': {'jhc': 258373},\n",
              "        'zvspnvfr': {'vzgwwjq.zbp': 18241}},\n",
              "       'jhc.dfd': 218828},\n",
              "      'gzd': {'chdfwj': 20383, 'prrlv.rvn': 63309},\n",
              "      'hfm': {'qhh': 291753}}},\n",
              "    'gwz': {'hfm.hpn': 29042,\n",
              "     'mpc': 184043,\n",
              "     'sdwnsgwv.mjm': 230539,\n",
              "     'zlnbcwr': 803},\n",
              "    'ljvrjp': {'pfltqw.zvc': 44312},\n",
              "    'sltlpb': {'sdwnsgwv.mjm': 321945},\n",
              "    'vbsnq': {'twbbg.ftq': 7774, 'zpqbp.cts': 109546}},\n",
              "   'nblfzrb': {'fst': 89034,\n",
              "    'sdwnsgwv.mjm': 338143,\n",
              "    'vmpgqbcd': 130661,\n",
              "    'vrj.zlb': 130071},\n",
              "   'nfm': {'fwmfmtt.hdg': 327853,\n",
              "    'vdjs': 151272,\n",
              "    'wznwjfw': {'nblfzrb': {'fpqfgs.gdl': 271817},\n",
              "     'zvspnvfr': {'hfm': {'fsgdq': {'sdwnsgwv.mjm': 244565},\n",
              "       'grj': {'rdvvrjf.fwz': 200989}},\n",
              "      'mdftsf': {'fnzztppm': {'bvf': 159263}, 'jhc.mtl': 21425}}},\n",
              "    'zlnbcwr': 75692},\n",
              "   'qwnml.bqn': 293979,\n",
              "   'sdwnsgwv.mjm': 159220,\n",
              "   'vzgwwjq.zbp': 327978,\n",
              "   'zvspnvfr.zbc': 155479},\n",
              "  'cprq.fmm': 3868,\n",
              "  'gcbpcf': {'gfprhn.rjj': 295086,\n",
              "   'ldwwls': {'sdwnsgwv.mjm': 175977},\n",
              "   'nblfzrb': {'mzshzw': {'mllqf': {'hfm.svt': 113563}}},\n",
              "   'zvspnvfr': {'fst': 84524,\n",
              "    'jhc': {'pjlj': {'jhc': {'hqzm': {'zlnbcwr': 159505}}},\n",
              "     'tfljr': {'dwhjmg': {'nblfzrb': {'ppptz': 194723}}}},\n",
              "    'llnqc': {'vzgwwjq.zbp': 194898},\n",
              "    'nnrwp.shv': 126979,\n",
              "    'npjd': {'blvfljfn': {'gfprhn.rjj': 283460, 'sqljld': 148100},\n",
              "     'dzpplzl': {'jjlvdvq.mqp': 62592},\n",
              "     'gfprhn.rjj': 101118,\n",
              "     'hbbnl.nvz': 116164,\n",
              "     'hfm': 211685,\n",
              "     'jhc': {'dvd.wvl': 90578, 'zqplggf': 165955},\n",
              "     'mcnftw': {'gbqpdt': 157908,\n",
              "      'jsnrcfbv': {'gffj': {'nblfzrb': {'sdwnsgwv.mjm': 216547,\n",
              "         'zvspnvfr.nvs': 135235},\n",
              "        'pcqs': 9340},\n",
              "       'hfm': 75682,\n",
              "       'pmfwlzn': {'jbsmwm': 137069},\n",
              "       'vzgwwjq.zbp': 160494},\n",
              "      'nblfzrb': {'hflnbmcd': {'sdwnsgwv.mjm': 275968},\n",
              "       'vzgwwjq.zbp': 11899,\n",
              "       'whmq.ftc': 334607,\n",
              "       'zlnbcwr': 347595},\n",
              "      'qlmd.dbq': 322169,\n",
              "      'zvspnvfr': {'vmpgqbcd': 75213}},\n",
              "     'nblfzrb': {'jhc': {'jhc': {'nblfzrb.mbc': 218236}}},\n",
              "     'ncpchrj': {'cnswqjjd': {'qpzfr': 134879, 'zvspnvfr': 30171},\n",
              "      'gvmlgjnj': {'fst': 209285}},\n",
              "     'qrdczsdf': {'zlnbcwr': 201094},\n",
              "     'ttbj': 165190,\n",
              "     'vzgwwjq.zbp': 190954},\n",
              "    'nptwgdbn': {'gfprhn.rjj': 217555, 'mrhhpr.gdg': 66582},\n",
              "    'qtn': 133618,\n",
              "    'rddftb': {'sdwnsgwv.mjm': 205347, 'vzgwwjq.zbp': 195976},\n",
              "    'thfhbhz': {'zlnbcwr': 321628},\n",
              "    'vmpgqbcd': 129882,\n",
              "    'zlnbcwr': 170834},\n",
              "   'zwv': {'lnqb': {'vjtnjt': {'hfm': 66715}},\n",
              "    'mtv': 311249,\n",
              "    'tnrtjrlz': {'jhc.vpj': 270833}}},\n",
              "  'hfm': {'fst.tfn': 220753,\n",
              "   'hfm': {'fst': {'cpll': {'pwcmhcf.lwz': 13452},\n",
              "     'fst': {'nblfzrb': {'ltrc': {'zlnbcwr': 163670},\n",
              "       'nblfzrb': {'brpzhf': {'mttr.szf': 224488},\n",
              "        'fst': 61846,\n",
              "        'vccrmc.jbd': 66356,\n",
              "        'vmpgqbcd': 72767},\n",
              "       'vhwnz': 326613,\n",
              "       'vzgwwjq.zbp': 244908},\n",
              "      'rqssg': {'bfmhl.cwj': 131534,\n",
              "       'hhznnd': 261143,\n",
              "       'nmb': {'fst.twf': 264421,\n",
              "        'jng': {'gfprhn.rjj': 8014, 'ppn.qbv': 168688},\n",
              "        'rnt.dlp': 81009,\n",
              "        'sftvd': 288053,\n",
              "        'vfc': {'bhgstrdl': {'fst.nrv': 102559, 'trqrlrw.jmc': 269697},\n",
              "         'dggwnqp.fpl': 138108,\n",
              "         'gfprhn.rjj': 303194}},\n",
              "       'vnmwgflj.rhp': 74816,\n",
              "       'wdzfzcss.fdc': 251308}},\n",
              "     'nblfzrb': {'bcj': {'nblfzrb': {'zvspnvfr.dqv': 149417}},\n",
              "      'cqjmmr': {'fcq.mmz': 147054,\n",
              "       'fst': {'vmpgqbcd': 114747},\n",
              "       'hfm': {'nvvppmls': {'cdsmgjdb': {'hfm.nmw': 158739}},\n",
              "        'phpq': {'hfm.hjj': 274026},\n",
              "        'rld': {'hsnngd.tqw': 237915}},\n",
              "       'jcsjjj.mvg': 110840,\n",
              "       'vzgwwjq.zbp': 75746,\n",
              "       'zlnbcwr': 333085},\n",
              "      'fst.tjf': 256392,\n",
              "      'gfprhn.rjj': 7079,\n",
              "      'gqm': {'vzgwwjq.zbp': 188469},\n",
              "      'hbqfms': {'fst': 127163},\n",
              "      'nmgbfhmq': {'gczqzbbd': 257647,\n",
              "       'hfm': {'gbtwdctn.drw': 267774},\n",
              "       'zvspnvfr': {'gfprhn.rjj': 189769}},\n",
              "      'pvdtbdj': 57962,\n",
              "      'sdwnsgwv.mjm': 117035,\n",
              "      'zlnbcwr': 64208},\n",
              "     'sbnplvz': {'bln': {'zlnbcwr': 161029},\n",
              "      'fst': {'fst': 333565},\n",
              "      'hdv': {'zvpp': {'gfprhn.rjj': 143723}},\n",
              "      'jhc': {'hfm': {'bwzrcghg.zwq': 249321,\n",
              "        'zlnbcwr': 38324,\n",
              "        'zvspnvfr.jwn': 149647},\n",
              "       'hnqpwnfb': {'bdmtgt': 113118, 'bthznc.bjt': 299110},\n",
              "       'jqgfcmjn': {'hfm.wnw': 176495,\n",
              "        'mqds': 333817,\n",
              "        'vqsmz.cbd': 208755,\n",
              "        'zltfds': 298875},\n",
              "       'mqj': {'brfmpbwn': 186649, 'cgdhzzl.bvg': 43322, 'zlnbcwr': 56230},\n",
              "       'psdd.ftf': 312345,\n",
              "       'slsq': {'dtsg': {'zvspnvfr.dqq': 308070},\n",
              "        'rjgvt.sgc': 343453,\n",
              "        'vmpgqbcd': 313784},\n",
              "       'thvhdmm.rpq': 319904,\n",
              "       'vzgwwjq.zbp': 317429},\n",
              "      'jhc.zvm': 31790,\n",
              "      'mmmjpp': 102276,\n",
              "      'zdwzgnb': {'zvspnvfr': {'glqszhnp': 278754, 'sdwnsgwv.mjm': 199713}}},\n",
              "     'vsd': {'fdrg.cft': 17978,\n",
              "      'sdwnsgwv.mjm': 320284,\n",
              "      'tpfmtww.jbs': 230059,\n",
              "      'vmpgqbcd': 168301},\n",
              "     'wlzbsdh': 307662,\n",
              "     'zlnbcwr': 194873},\n",
              "    'mfmcqhbz': {'fst': {'cln': {'cfz': {'zvspnvfr': 168184},\n",
              "       'njptzz': {'hfm.mjh': 286155},\n",
              "       'rcbps': {'vzgwwjq.zbp': 256675},\n",
              "       'rjl.pfg': 161994,\n",
              "       'tcqttb': {'flmgglv.gjw': 91505, 'ftbjzt.lcm': 270377},\n",
              "       'vmpgqbcd': 22809,\n",
              "       'zvspnvfr.gbw': 225782},\n",
              "      'hfm.mhr': 235621,\n",
              "      'qwfwj': 4347,\n",
              "      'zlnbcwr': 226297},\n",
              "     'lwlsnt': {'ztrcwjw': {'vjcldgfj.twb': 342059}},\n",
              "     'mqqdst': {'dhlhzzj.sbh': 326143,\n",
              "      'lmsbg': {'zvspnvfr.zwq': 282223},\n",
              "      'nblfzrb.nnr': 13108,\n",
              "      'vzgwwjq.zbp': 256325,\n",
              "      'zlnbcwr': 146133}},\n",
              "    'pdblpszb': {'sdwnsgwv.mjm': 167164}},\n",
              "   'mnzlvc.jzw': 154659,\n",
              "   'nblfzrb': {'zlnbcwr': 161555},\n",
              "   'nrqhstc': {'gfprhn.rjj': 316797,\n",
              "    'nblfzrb.cjr': 263838,\n",
              "    'pppmp': {'fst': {'dtt': 4441, 'jhdqj.tpt': 115073, 'zlnbcwr': 337681},\n",
              "     'gfprhn.rjj': 328237,\n",
              "     'hzv.prf': 288094,\n",
              "     'pcnhmmw': 260275,\n",
              "     'pptjlrn.pls': 214496,\n",
              "     'tqjgrc': {'zlnbcwr': 6491},\n",
              "     'vmbvl.zvh': 315647},\n",
              "    'shcwlggz': {'gfprhn.rjj': 251509,\n",
              "     'slsnbzm': 331578,\n",
              "     'wlchqtzj.ljz': 158534,\n",
              "     'wmdvjs.tjb': 341686}},\n",
              "   'vwc': {'gfprhn.rjj': 94599,\n",
              "    'hql.hss': 298110,\n",
              "    'rsrfc': {'fst': {'bflpjwd.wbj': 259462, 'cvh.fnr': 177686}},\n",
              "    'vmpgqbcd': 230201,\n",
              "    'zcsqst': {'bbbd.ncl': 344114,\n",
              "     'gfprhn.rjj': 282111,\n",
              "     'jhc': 327171,\n",
              "     'qwzwmffq.chl': 43867},\n",
              "    'zrz': {'zvspnvfr': {'fst': {'fst.jmg': 218902}}},\n",
              "    'zvspnvfr': 58810},\n",
              "   'wlpdphhg': {'lllph': {'bbfqftlg.pll': 167740}, 'wmn': 41390},\n",
              "   'zpbh': {'jhc.tfs': 63568,\n",
              "    'nblfzrb': {'gbvpw.bpm': 154990,\n",
              "     'hfm': {'vmpgqbcd': 141530},\n",
              "     'jhc': 148488,\n",
              "     'jhc.zlg': 301795,\n",
              "     'nblfzrb': {'rnhn': {'sdwnsgwv.mjm': 46251}},\n",
              "     'rvhcfsrw.crj': 115285,\n",
              "     'wsqdt': 320034},\n",
              "    'rlsvrfrb': {'hfm': 140923, 'zvspnvfr.mvl': 228981},\n",
              "    'vzgwwjq.zbp': 29977,\n",
              "    'zvspnvfr': {'gnhh.hpw': 182280, 'vvlt.pgf': 95206}},\n",
              "   'zvspnvfr': {'wsfjhlqc.zsj': 234551},\n",
              "   'zvspnvfr.zqt': 160091},\n",
              "  'lthcng.gnf': 324644,\n",
              "  'nblfzrb.mrr': 133181,\n",
              "  'sfrbjmmh.jnj': 140568,\n",
              "  'tfsh': {'fbrqvwgr': {'nrhm': 244821}},\n",
              "  'vlsqgrw': {'dzdd': {'hjmv': {'hfm.qcd': 91558}},\n",
              "   'fst.rjm': 18805,\n",
              "   'gfprhn.rjj': 50694,\n",
              "   'jlnrm': 55025,\n",
              "   'pnsbfz': {'bmgmh': {'dvh': {'jhc': {'dltqbnpq': {'zlnbcwr': 133426}},\n",
              "      'jtp': {'clh': {'sdwnsgwv.mjm': 54117}},\n",
              "      'rzlt.llb': 85638},\n",
              "     'mwfbthpj': {'zwslwbr.chm': 75900},\n",
              "     'swqbph': {'jrlljc.ntl': 307258}},\n",
              "    'nblfzrb': {'zdjg.qsj': 106071},\n",
              "    'zvfg': {'zvspnvfr.dqj': 311338}},\n",
              "   'qjjjgd': {'cdmwgn': {'bttff': {'nblfzrb': {'jhc.hzf': 346048,\n",
              "       'nccq': {'gfprhn.rjj': 141144, 'hfm': 65628},\n",
              "       'rwtddj': {'jctw': {'thcfz.frn': 141075}},\n",
              "       'sdwnsgwv.mjm': 149890}}},\n",
              "    'fqmln': {'cjgh': 282233},\n",
              "    'gfprhn.rjj': 285733,\n",
              "    'gswsc': {'ccjg.zml': 153758,\n",
              "     'cllgt': {'vmpgqbcd': 132862},\n",
              "     'ctqdpq.clq': 257967,\n",
              "     'jhc': 117673,\n",
              "     'wqcz.tww': 258604,\n",
              "     'zvspnvfr.grb': 122135},\n",
              "    'htpzdb': {'hfm': {'bbbsd': 155413,\n",
              "      'jhhmwq': 288638,\n",
              "      'lnss': {'zvspnvfr': 341786}},\n",
              "     'mlplp': {'zhcq.gzj': 256802},\n",
              "     'nblfzrb': 231759,\n",
              "     'pqpbjbqp': 159823,\n",
              "     'vzgwwjq.zbp': 25382},\n",
              "    'jwc': 261929,\n",
              "    'lvzpqqv': {'cgj': {'nblfzrb.lcc': 74595},\n",
              "     'mdb': {'zvspnvfr.ldc': 167891},\n",
              "     'shpdtb': {'bvff.hsf': 45889, 'sdwnsgwv.mjm': 92447}},\n",
              "    'mlc': {'mrblf': 7978},\n",
              "    'mzbpmhf': {'jhbs': 38713},\n",
              "    'sdwnsgwv.mjm': 329303,\n",
              "    'vmpgqbcd': 76120},\n",
              "   'whrtnh': {'jbbwzd': {'jhc.qqw': 88613}, 'nblfzrb': {'zlnbcwr': 164792}},\n",
              "   'zggjjcct.fsz': 28406},\n",
              "  'vmpgqbcd': 202279}}"
            ]
          },
          "metadata": {},
          "execution_count": 12
        }
      ]
    },
    {
      "cell_type": "code",
      "source": [
        "def find_sum(dir, limit):\n",
        "  total = 0\n",
        "  ans = 0\n",
        "  for key in dir:\n",
        "    val = dir[key]\n",
        "    if type(val) == int:\n",
        "      total += val\n",
        "    else:\n",
        "      t1, a1 = find_sum(val, limit)\n",
        "      total += t1\n",
        "      ans += a1\n",
        "  \n",
        "  if total <= limit:\n",
        "    ans += total\n",
        "  \n",
        "  return total, ans"
      ],
      "metadata": {
        "id": "urqQ05XrLJ7W"
      },
      "execution_count": 27,
      "outputs": []
    },
    {
      "cell_type": "code",
      "source": [
        "t, a = find_sum(dir, 100000)\n",
        "print(t)\n",
        "print(a)"
      ],
      "metadata": {
        "colab": {
          "base_uri": "https://localhost:8080/"
        },
        "id": "vAOAtA18M5_H",
        "outputId": "d06f9e26-d441-4416-d124-2ca2939cd36b"
      },
      "execution_count": 28,
      "outputs": [
        {
          "output_type": "stream",
          "name": "stdout",
          "text": [
            "50822529\n",
            "1306611\n"
          ]
        }
      ]
    },
    {
      "cell_type": "code",
      "source": [
        "def find_min(dir, limit):\n",
        "  total = 0\n",
        "  ans = float('inf')\n",
        "  for key in dir:\n",
        "    val = dir[key]\n",
        "    if type(val) == int:\n",
        "      total += val\n",
        "    else:\n",
        "      t1, a1 = find_min(val, limit)\n",
        "      total += t1\n",
        "      ans = min(a1, ans)\n",
        "  \n",
        "  if total >= limit:\n",
        "    ans = min(total, ans)\n",
        "\n",
        "  return total, ans"
      ],
      "metadata": {
        "id": "xPs1nLPGNBrY"
      },
      "execution_count": 29,
      "outputs": []
    },
    {
      "cell_type": "code",
      "source": [
        "t2, a2 = find_min(dir,  30000000 - (70000000 - 50822529))\n",
        "print(t2)\n",
        "print(a2)"
      ],
      "metadata": {
        "colab": {
          "base_uri": "https://localhost:8080/"
        },
        "id": "yxmATadWN0ee",
        "outputId": "38c4fc04-2c4b-4695-92f2-3b98fd51e492"
      },
      "execution_count": 31,
      "outputs": [
        {
          "output_type": "stream",
          "name": "stdout",
          "text": [
            "50822529\n",
            "13210366\n"
          ]
        }
      ]
    },
    {
      "cell_type": "code",
      "source": [],
      "metadata": {
        "id": "UrfCGh8iN6Cg"
      },
      "execution_count": null,
      "outputs": []
    }
  ]
}