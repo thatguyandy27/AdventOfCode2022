{
  "nbformat": 4,
  "nbformat_minor": 0,
  "metadata": {
    "colab": {
      "provenance": [],
      "authorship_tag": "ABX9TyNvHZZy1js1B0GZ7COmRH4q",
      "include_colab_link": true
    },
    "kernelspec": {
      "name": "python3",
      "display_name": "Python 3"
    },
    "language_info": {
      "name": "python"
    }
  },
  "cells": [
    {
      "cell_type": "markdown",
      "metadata": {
        "id": "view-in-github",
        "colab_type": "text"
      },
      "source": [
        "<a href=\"https://colab.research.google.com/github/thatguyandy27/AdventOfCode2022/blob/main/Day4.ipynb\" target=\"_parent\"><img src=\"https://colab.research.google.com/assets/colab-badge.svg\" alt=\"Open In Colab\"/></a>"
      ]
    },
    {
      "cell_type": "code",
      "execution_count": 3,
      "metadata": {
        "id": "kDDqMigv4l8U"
      },
      "outputs": [],
      "source": [
        "def load_file():\n",
        "  file_name = 'input.dat'\n",
        "  with open(file_name) as f:\n",
        "    lines = f.readlines()\n",
        "  \n",
        "  data = []\n",
        "  for line in lines:\n",
        "    line = line.replace('\\n', '')\n",
        "    split = line.split(',')\n",
        "\n",
        "    left = split[0].split('-')\n",
        "    right = split[1].split('-')\n",
        "    \n",
        "    data.append(( (int(left[0]),int(left[1])), (int(right[0]), int(right[1]) ) ))\n",
        "  \n",
        "  return data"
      ]
    },
    {
      "cell_type": "code",
      "source": [
        "data = load_file()"
      ],
      "metadata": {
        "id": "0rxU_fgI6p7p"
      },
      "execution_count": 4,
      "outputs": []
    },
    {
      "cell_type": "code",
      "source": [
        "data[0]"
      ],
      "metadata": {
        "colab": {
          "base_uri": "https://localhost:8080/"
        },
        "id": "3qno8-1B6r2y",
        "outputId": "304c7eb6-04f7-431f-8258-e5bd29900b85"
      },
      "execution_count": 5,
      "outputs": [
        {
          "output_type": "execute_result",
          "data": {
            "text/plain": [
              "((28, 88), (85, 88))"
            ]
          },
          "metadata": {},
          "execution_count": 5
        }
      ]
    },
    {
      "cell_type": "code",
      "source": [
        "def is_covered(left, right):\n",
        "  return (left[0] <= right[0] and left[1] >= right[1]) or (right[0] <= left[0] and right[1] >= left[1])\n",
        "\n",
        "def find_cover_count(data):\n",
        "  count = 0\n",
        "  for d in data:\n",
        "    if is_covered(d[0], d[1]):\n",
        "      count += 1\n",
        "  \n",
        "  return count"
      ],
      "metadata": {
        "id": "KIp_UOq07GO5"
      },
      "execution_count": 6,
      "outputs": []
    },
    {
      "cell_type": "code",
      "source": [
        "count = find_cover_count(data)\n",
        "print(count)"
      ],
      "metadata": {
        "colab": {
          "base_uri": "https://localhost:8080/"
        },
        "id": "cKti_6KU8SuI",
        "outputId": "ccb5e4e7-6741-448a-984c-c43425c741c0"
      },
      "execution_count": 8,
      "outputs": [
        {
          "output_type": "stream",
          "name": "stdout",
          "text": [
            "513\n"
          ]
        }
      ]
    },
    {
      "cell_type": "code",
      "source": [
        "def is_overlap(left, right):\n",
        "  return (left[0] == right[0]) or (left[0] < right[0] and left[1] >= right[0]) or (right[1] >= left[0] and right[0] < left[0])\n",
        "\n",
        "def find_overlap(data):\n",
        "  count = 0\n",
        "  for d in data:\n",
        "    if is_overlap(d[0], d[1]):\n",
        "      count += 1\n",
        "  \n",
        "  return count"
      ],
      "metadata": {
        "id": "2_V1gKZ28VRg"
      },
      "execution_count": 9,
      "outputs": []
    },
    {
      "cell_type": "code",
      "source": [
        "count = find_overlap(data)\n",
        "print(count)"
      ],
      "metadata": {
        "colab": {
          "base_uri": "https://localhost:8080/"
        },
        "id": "AVi-UpIR9oiZ",
        "outputId": "b81981a5-d24a-4df3-e12d-9c41542cabb1"
      },
      "execution_count": 10,
      "outputs": [
        {
          "output_type": "stream",
          "name": "stdout",
          "text": [
            "878\n"
          ]
        }
      ]
    },
    {
      "cell_type": "code",
      "source": [],
      "metadata": {
        "id": "IVd6MZPV9umo"
      },
      "execution_count": null,
      "outputs": []
    }
  ]
}